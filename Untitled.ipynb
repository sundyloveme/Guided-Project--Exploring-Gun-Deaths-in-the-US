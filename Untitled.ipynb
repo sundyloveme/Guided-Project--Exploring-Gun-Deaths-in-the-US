{
 "cells": [
  {
   "cell_type": "code",
   "execution_count": 4,
   "metadata": {},
   "outputs": [
    {
     "name": "stdout",
     "output_type": "stream",
     "text": [
      "[['', 'year', 'month', 'intent', 'police', 'sex', 'age', 'race', 'hispanic', 'place', 'education'], ['1', '2012', '01', 'Suicide', '0', 'M', '34', 'Asian/Pacific Islander', '100', 'Home', '4'], ['2', '2012', '01', 'Suicide', '0', 'F', '21', 'White', '100', 'Street', '3'], ['3', '2012', '01', 'Suicide', '0', 'M', '60', 'White', '100', 'Other specified', '4'], ['4', '2012', '02', 'Suicide', '0', 'M', '64', 'White', '100', 'Home', '4']]\n"
     ]
    }
   ],
   "source": [
    "import csv\n",
    "gunsData = csv.reader(open(\"guns.csv\", \"r\")) # 用reader函数打开创建文件对象，方便后面将数据转化为列表模式\n",
    "gunData = list(gunsData) # 这样可以将数据转化为数组形式，如果是二维的就会转化为二维数组\n",
    "print(gunData[0:5]) "
   ]
  },
  {
   "cell_type": "code",
   "execution_count": 6,
   "metadata": {},
   "outputs": [
    {
     "name": "stdout",
     "output_type": "stream",
     "text": [
      "['', 'year', 'month', 'intent', 'police', 'sex', 'age', 'race', 'hispanic', 'place', 'education']\n"
     ]
    }
   ],
   "source": [
    "headers = gunData[0] # 提取出首行，因为首行往往是字段名称，并不是数据，所以提取出来\n",
    "print(headers)"
   ]
  },
  {
   "cell_type": "code",
   "execution_count": 8,
   "metadata": {},
   "outputs": [
    {
     "name": "stdout",
     "output_type": "stream",
     "text": [
      "['1', '2012', '01', 'Suicide', '0', 'M', '34', 'Asian/Pacific Islander', '100', 'Home', '4']\n"
     ]
    }
   ],
   "source": [
    "gunData = gunData[1: len(gunData)] # 去掉首行，因为之前已经提取出来了\n",
    "print(gunData[0])"
   ]
  },
  {
   "cell_type": "code",
   "execution_count": 11,
   "metadata": {},
   "outputs": [
    {
     "name": "stdout",
     "output_type": "stream",
     "text": [
      "{'Suicide': 63175, 'Undetermined': 807, 'Accidental': 1639, 'Homicide': 35176, 'NA': 1}\n"
     ]
    }
   ],
   "source": [
    "# 创建一个字段来统计一些信息\n",
    "dic = {}\n",
    "for row in gunData:\n",
    "    intent = row[3]\n",
    "    if intent in dic:\n",
    "        dic[intent] += 1\n",
    "    else:\n",
    "        dic[intent] = 1\n",
    "print(dic)\n",
    "# 由此可见美国枪击死亡人数虽然多但是居然有一半多是自杀！数据说明一切。"
   ]
  },
  {
   "cell_type": "code",
   "execution_count": 12,
   "metadata": {},
   "outputs": [
    {
     "name": "stdout",
     "output_type": "stream",
     "text": [
      "{'2012': 33563, '2013': 33636, '2014': 33599}\n"
     ]
    }
   ],
   "source": [
    "# 创建一个字段来统计一些信息\n",
    "dic = {}\n",
    "for row in gunData:\n",
    "    year = row[1]\n",
    "    if year in dic:\n",
    "        dic[year] += 1\n",
    "    else:\n",
    "        dic[year] = 1\n",
    "print(dic)"
   ]
  },
  {
   "cell_type": "code",
   "execution_count": 15,
   "metadata": {},
   "outputs": [
    {
     "name": "stdout",
     "output_type": "stream",
     "text": [
      "['', 'year', 'month', 'intent', 'police', 'sex', 'age', 'race', 'hispanic', 'place', 'education']\n",
      "['1', '2012', '01', 'Suicide', '0', 'M', '34', 'Asian/Pacific Islander', '100', 'Home', '4']\n"
     ]
    }
   ],
   "source": [
    "# 屏幕太小了 显示一些信息\n",
    "print(headers)\n",
    "print(gunData[0])"
   ]
  },
  {
   "cell_type": "code",
   "execution_count": 30,
   "metadata": {
    "scrolled": true
   },
   "outputs": [
    {
     "name": "stdout",
     "output_type": "stream",
     "text": [
      "[datetime.datetime(2012, 1, 1, 0, 0), datetime.datetime(2012, 1, 1, 0, 0), datetime.datetime(2012, 1, 1, 0, 0), datetime.datetime(2012, 2, 1, 0, 0), datetime.datetime(2012, 2, 1, 0, 0)]\n"
     ]
    }
   ],
   "source": [
    "import datetime\n",
    "# 将年月整合成为一个对象，这样就便于整体访问啦！ day默认赋值为1，因为我们这里没有天数\n",
    "# list表达式理解的语法总结 list=[每一行的值 for xx in 来自哪里]\n",
    "dates = [datetime.datetime(year=int(row[1]), month=int(row[2]), day=1) for row in gunData]\n",
    "print(dates[0:5])"
   ]
  },
  {
   "cell_type": "code",
   "execution_count": null,
   "metadata": {},
   "outputs": [],
   "source": [
    "dic = {}\n",
    "for date in dates:\n",
    "    if date in dic:\n",
    "        dic[date] += 1\n",
    "    else:\n",
    "        dic[date] = 1\n",
    "print(dic)"
   ]
  },
  {
   "cell_type": "code",
   "execution_count": null,
   "metadata": {},
   "outputs": [],
   "source": []
  }
 ],
 "metadata": {
  "kernelspec": {
   "display_name": "Python 3",
   "language": "python",
   "name": "python3"
  },
  "language_info": {
   "codemirror_mode": {
    "name": "ipython",
    "version": 3
   },
   "file_extension": ".py",
   "mimetype": "text/x-python",
   "name": "python",
   "nbconvert_exporter": "python",
   "pygments_lexer": "ipython3",
   "version": "3.6.4"
  }
 },
 "nbformat": 4,
 "nbformat_minor": 2
}
